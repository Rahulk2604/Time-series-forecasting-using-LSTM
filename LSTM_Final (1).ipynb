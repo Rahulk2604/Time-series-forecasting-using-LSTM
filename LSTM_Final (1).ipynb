{
 "cells": [
  {
   "cell_type": "markdown",
   "id": "d3f5a02a",
   "metadata": {},
   "source": [
    "# Inventory Forecast using LSTM"
   ]
  },
  {
   "cell_type": "code",
   "execution_count": 1,
   "id": "813611cf",
   "metadata": {},
   "outputs": [],
   "source": [
    "import pandas as pd\n",
    "import numpy as np\n",
    "import matplotlib.pyplot as plt\n",
    "from sklearn.metrics import mean_squared_error,r2_score"
   ]
  },
  {
   "cell_type": "code",
   "execution_count": 3,
   "id": "36d6cba9",
   "metadata": {},
   "outputs": [
    {
     "data": {
      "text/html": [
       "<div>\n",
       "<style scoped>\n",
       "    .dataframe tbody tr th:only-of-type {\n",
       "        vertical-align: middle;\n",
       "    }\n",
       "\n",
       "    .dataframe tbody tr th {\n",
       "        vertical-align: top;\n",
       "    }\n",
       "\n",
       "    .dataframe thead th {\n",
       "        text-align: right;\n",
       "    }\n",
       "</style>\n",
       "<table border=\"1\" class=\"dataframe\">\n",
       "  <thead>\n",
       "    <tr style=\"text-align: right;\">\n",
       "      <th></th>\n",
       "      <th>Time</th>\n",
       "      <th>Units Ordered</th>\n",
       "    </tr>\n",
       "  </thead>\n",
       "  <tbody>\n",
       "    <tr>\n",
       "      <th>0</th>\n",
       "      <td>2021-02-16 00:00:00</td>\n",
       "      <td>0</td>\n",
       "    </tr>\n",
       "    <tr>\n",
       "      <th>1</th>\n",
       "      <td>2021-02-17 00:00:00</td>\n",
       "      <td>1</td>\n",
       "    </tr>\n",
       "    <tr>\n",
       "      <th>2</th>\n",
       "      <td>2021-02-18 00:00:00</td>\n",
       "      <td>1</td>\n",
       "    </tr>\n",
       "    <tr>\n",
       "      <th>3</th>\n",
       "      <td>2021-02-19 00:00:00</td>\n",
       "      <td>2</td>\n",
       "    </tr>\n",
       "    <tr>\n",
       "      <th>4</th>\n",
       "      <td>2021-02-20 00:00:00</td>\n",
       "      <td>6</td>\n",
       "    </tr>\n",
       "    <tr>\n",
       "      <th>...</th>\n",
       "      <td>...</td>\n",
       "      <td>...</td>\n",
       "    </tr>\n",
       "    <tr>\n",
       "      <th>582</th>\n",
       "      <td>2022-09-21 00:00:00</td>\n",
       "      <td>4</td>\n",
       "    </tr>\n",
       "    <tr>\n",
       "      <th>583</th>\n",
       "      <td>2022-09-22 00:00:00</td>\n",
       "      <td>6</td>\n",
       "    </tr>\n",
       "    <tr>\n",
       "      <th>584</th>\n",
       "      <td>2022-09-23 00:00:00</td>\n",
       "      <td>4</td>\n",
       "    </tr>\n",
       "    <tr>\n",
       "      <th>585</th>\n",
       "      <td>2022-09-24 00:00:00</td>\n",
       "      <td>3</td>\n",
       "    </tr>\n",
       "    <tr>\n",
       "      <th>586</th>\n",
       "      <td>2022-09-25 00:00:00</td>\n",
       "      <td>2</td>\n",
       "    </tr>\n",
       "  </tbody>\n",
       "</table>\n",
       "<p>587 rows × 2 columns</p>\n",
       "</div>"
      ],
      "text/plain": [
       "                    Time  Units Ordered\n",
       "0    2021-02-16 00:00:00              0\n",
       "1    2021-02-17 00:00:00              1\n",
       "2    2021-02-18 00:00:00              1\n",
       "3    2021-02-19 00:00:00              2\n",
       "4    2021-02-20 00:00:00              6\n",
       "..                   ...            ...\n",
       "582  2022-09-21 00:00:00              4\n",
       "583  2022-09-22 00:00:00              6\n",
       "584  2022-09-23 00:00:00              4\n",
       "585  2022-09-24 00:00:00              3\n",
       "586  2022-09-25 00:00:00              2\n",
       "\n",
       "[587 rows x 2 columns]"
      ]
     },
     "execution_count": 3,
     "metadata": {},
     "output_type": "execute_result"
    }
   ],
   "source": [
    "df= pd.read_excel(r\"D:\\Xena\\project\\800CT-Twin-B08QCX9WKH.xlsx\",parse_dates=True, engine='openpyxl')\n",
    "df"
   ]
  },
  {
   "cell_type": "code",
   "execution_count": 4,
   "id": "ab23766e",
   "metadata": {},
   "outputs": [
    {
     "data": {
      "text/plain": [
       "pandas.core.series.Series"
      ]
     },
     "execution_count": 4,
     "metadata": {},
     "output_type": "execute_result"
    }
   ],
   "source": [
    "type(df['Time'])"
   ]
  },
  {
   "cell_type": "code",
   "execution_count": 5,
   "id": "0bbed17d",
   "metadata": {},
   "outputs": [],
   "source": [
    "df['Time']= pd.to_datetime(df['Time'])"
   ]
  },
  {
   "cell_type": "code",
   "execution_count": 6,
   "id": "a3bc9998",
   "metadata": {},
   "outputs": [
    {
     "data": {
      "text/html": [
       "<div>\n",
       "<style scoped>\n",
       "    .dataframe tbody tr th:only-of-type {\n",
       "        vertical-align: middle;\n",
       "    }\n",
       "\n",
       "    .dataframe tbody tr th {\n",
       "        vertical-align: top;\n",
       "    }\n",
       "\n",
       "    .dataframe thead th {\n",
       "        text-align: right;\n",
       "    }\n",
       "</style>\n",
       "<table border=\"1\" class=\"dataframe\">\n",
       "  <thead>\n",
       "    <tr style=\"text-align: right;\">\n",
       "      <th></th>\n",
       "      <th>Time</th>\n",
       "      <th>Units Ordered</th>\n",
       "    </tr>\n",
       "  </thead>\n",
       "  <tbody>\n",
       "    <tr>\n",
       "      <th>0</th>\n",
       "      <td>16-02-2021</td>\n",
       "      <td>0</td>\n",
       "    </tr>\n",
       "    <tr>\n",
       "      <th>1</th>\n",
       "      <td>17-02-2021</td>\n",
       "      <td>1</td>\n",
       "    </tr>\n",
       "    <tr>\n",
       "      <th>2</th>\n",
       "      <td>18-02-2021</td>\n",
       "      <td>1</td>\n",
       "    </tr>\n",
       "    <tr>\n",
       "      <th>3</th>\n",
       "      <td>19-02-2021</td>\n",
       "      <td>2</td>\n",
       "    </tr>\n",
       "    <tr>\n",
       "      <th>4</th>\n",
       "      <td>20-02-2021</td>\n",
       "      <td>6</td>\n",
       "    </tr>\n",
       "    <tr>\n",
       "      <th>...</th>\n",
       "      <td>...</td>\n",
       "      <td>...</td>\n",
       "    </tr>\n",
       "    <tr>\n",
       "      <th>582</th>\n",
       "      <td>21-09-2022</td>\n",
       "      <td>4</td>\n",
       "    </tr>\n",
       "    <tr>\n",
       "      <th>583</th>\n",
       "      <td>22-09-2022</td>\n",
       "      <td>6</td>\n",
       "    </tr>\n",
       "    <tr>\n",
       "      <th>584</th>\n",
       "      <td>23-09-2022</td>\n",
       "      <td>4</td>\n",
       "    </tr>\n",
       "    <tr>\n",
       "      <th>585</th>\n",
       "      <td>24-09-2022</td>\n",
       "      <td>3</td>\n",
       "    </tr>\n",
       "    <tr>\n",
       "      <th>586</th>\n",
       "      <td>25-09-2022</td>\n",
       "      <td>2</td>\n",
       "    </tr>\n",
       "  </tbody>\n",
       "</table>\n",
       "<p>587 rows × 2 columns</p>\n",
       "</div>"
      ],
      "text/plain": [
       "           Time  Units Ordered\n",
       "0    16-02-2021              0\n",
       "1    17-02-2021              1\n",
       "2    18-02-2021              1\n",
       "3    19-02-2021              2\n",
       "4    20-02-2021              6\n",
       "..          ...            ...\n",
       "582  21-09-2022              4\n",
       "583  22-09-2022              6\n",
       "584  23-09-2022              4\n",
       "585  24-09-2022              3\n",
       "586  25-09-2022              2\n",
       "\n",
       "[587 rows x 2 columns]"
      ]
     },
     "execution_count": 6,
     "metadata": {},
     "output_type": "execute_result"
    }
   ],
   "source": [
    "df['Time']= df['Time'].dt.strftime('%d-%m-%Y')\n",
    "df"
   ]
  },
  {
   "cell_type": "code",
   "execution_count": 7,
   "id": "4d4d425e",
   "metadata": {},
   "outputs": [
    {
     "data": {
      "text/html": [
       "<div>\n",
       "<style scoped>\n",
       "    .dataframe tbody tr th:only-of-type {\n",
       "        vertical-align: middle;\n",
       "    }\n",
       "\n",
       "    .dataframe tbody tr th {\n",
       "        vertical-align: top;\n",
       "    }\n",
       "\n",
       "    .dataframe thead th {\n",
       "        text-align: right;\n",
       "    }\n",
       "</style>\n",
       "<table border=\"1\" class=\"dataframe\">\n",
       "  <thead>\n",
       "    <tr style=\"text-align: right;\">\n",
       "      <th></th>\n",
       "      <th>Units Ordered</th>\n",
       "    </tr>\n",
       "    <tr>\n",
       "      <th>Date</th>\n",
       "      <th></th>\n",
       "    </tr>\n",
       "  </thead>\n",
       "  <tbody>\n",
       "    <tr>\n",
       "      <th>16-02-2021</th>\n",
       "      <td>0</td>\n",
       "    </tr>\n",
       "    <tr>\n",
       "      <th>17-02-2021</th>\n",
       "      <td>1</td>\n",
       "    </tr>\n",
       "    <tr>\n",
       "      <th>18-02-2021</th>\n",
       "      <td>1</td>\n",
       "    </tr>\n",
       "    <tr>\n",
       "      <th>19-02-2021</th>\n",
       "      <td>2</td>\n",
       "    </tr>\n",
       "    <tr>\n",
       "      <th>20-02-2021</th>\n",
       "      <td>6</td>\n",
       "    </tr>\n",
       "    <tr>\n",
       "      <th>...</th>\n",
       "      <td>...</td>\n",
       "    </tr>\n",
       "    <tr>\n",
       "      <th>21-09-2022</th>\n",
       "      <td>4</td>\n",
       "    </tr>\n",
       "    <tr>\n",
       "      <th>22-09-2022</th>\n",
       "      <td>6</td>\n",
       "    </tr>\n",
       "    <tr>\n",
       "      <th>23-09-2022</th>\n",
       "      <td>4</td>\n",
       "    </tr>\n",
       "    <tr>\n",
       "      <th>24-09-2022</th>\n",
       "      <td>3</td>\n",
       "    </tr>\n",
       "    <tr>\n",
       "      <th>25-09-2022</th>\n",
       "      <td>2</td>\n",
       "    </tr>\n",
       "  </tbody>\n",
       "</table>\n",
       "<p>587 rows × 1 columns</p>\n",
       "</div>"
      ],
      "text/plain": [
       "            Units Ordered\n",
       "Date                     \n",
       "16-02-2021              0\n",
       "17-02-2021              1\n",
       "18-02-2021              1\n",
       "19-02-2021              2\n",
       "20-02-2021              6\n",
       "...                   ...\n",
       "21-09-2022              4\n",
       "22-09-2022              6\n",
       "23-09-2022              4\n",
       "24-09-2022              3\n",
       "25-09-2022              2\n",
       "\n",
       "[587 rows x 1 columns]"
      ]
     },
     "execution_count": 7,
     "metadata": {},
     "output_type": "execute_result"
    }
   ],
   "source": [
    "df= df.set_index('Time')\n",
    "df.index.names = ['Date']\n",
    "df"
   ]
  },
  {
   "cell_type": "code",
   "execution_count": 8,
   "id": "5c7645eb",
   "metadata": {},
   "outputs": [
    {
     "name": "stderr",
     "output_type": "stream",
     "text": [
      "C:\\Users\\RAHUL\\anaconda3\\lib\\site-packages\\pandas\\plotting\\_matplotlib\\core.py:1192: UserWarning: FixedFormatter should only be used together with FixedLocator\n",
      "  ax.set_xticklabels(xticklabels)\n"
     ]
    },
    {
     "data": {
      "text/plain": [
       "<AxesSubplot:xlabel='Date'>"
      ]
     },
     "execution_count": 8,
     "metadata": {},
     "output_type": "execute_result"
    },
    {
     "data": {
      "image/png": "[encoded data removed]",
      "text/plain": [
       "<Figure size 864x576 with 1 Axes>"
      ]
     },
     "metadata": {
      "needs_background": "light"
     },
     "output_type": "display_data"
    }
   ],
   "source": [
    "df.plot(figsize=(12,8))"
   ]
  },
  {
   "cell_type": "code",
   "execution_count": 9,
   "id": "b4f749fe",
   "metadata": {},
   "outputs": [
    {
     "name": "stdout",
     "output_type": "stream",
     "text": [
      "Results of Dickey fuller test\n",
      "Test Statistics                 -3.290445\n",
      "p-value                          0.015311\n",
      "#Lags used                       0.000000\n",
      "Number of observations used    586.000000\n",
      "Critical Values (1%)            -3.441558\n",
      "Critical Values (5%)            -2.866485\n",
      "Critical Values (10%)           -2.569403\n",
      "dtype: float64\n"
     ]
    }
   ],
   "source": [
    "#lstm doesn't depend seasonality\n",
    "from statsmodels.tsa.stattools import adfuller\n",
    "\n",
    "print(\"Results of Dickey fuller test\")\n",
    "dftest= adfuller(df['Units Ordered'], autolag='AIC')\n",
    "\n",
    "dfout= pd.Series(dftest[0:4], index=['Test Statistics','p-value','#Lags used','Number of observations used'])\n",
    "for key,value in dftest[4].items():\n",
    "    dfout['Critical Values (%s)'%key]= value\n",
    "print(dfout)"
   ]
  },
  {
   "cell_type": "code",
   "execution_count": 10,
   "id": "120c53d7",
   "metadata": {},
   "outputs": [],
   "source": [
    "train_data= df.iloc[:469]\n",
    "test_data = df.iloc[469:]"
   ]
  },
  {
   "cell_type": "code",
   "execution_count": 11,
   "id": "a924524a",
   "metadata": {},
   "outputs": [
    {
     "data": {
      "text/html": [
       "<div>\n",
       "<style scoped>\n",
       "    .dataframe tbody tr th:only-of-type {\n",
       "        vertical-align: middle;\n",
       "    }\n",
       "\n",
       "    .dataframe tbody tr th {\n",
       "        vertical-align: top;\n",
       "    }\n",
       "\n",
       "    .dataframe thead th {\n",
       "        text-align: right;\n",
       "    }\n",
       "</style>\n",
       "<table border=\"1\" class=\"dataframe\">\n",
       "  <thead>\n",
       "    <tr style=\"text-align: right;\">\n",
       "      <th></th>\n",
       "      <th>Units Ordered</th>\n",
       "    </tr>\n",
       "    <tr>\n",
       "      <th>Date</th>\n",
       "      <th></th>\n",
       "    </tr>\n",
       "  </thead>\n",
       "  <tbody>\n",
       "    <tr>\n",
       "      <th>16-02-2021</th>\n",
       "      <td>0</td>\n",
       "    </tr>\n",
       "    <tr>\n",
       "      <th>17-02-2021</th>\n",
       "      <td>1</td>\n",
       "    </tr>\n",
       "    <tr>\n",
       "      <th>18-02-2021</th>\n",
       "      <td>1</td>\n",
       "    </tr>\n",
       "    <tr>\n",
       "      <th>19-02-2021</th>\n",
       "      <td>2</td>\n",
       "    </tr>\n",
       "    <tr>\n",
       "      <th>20-02-2021</th>\n",
       "      <td>6</td>\n",
       "    </tr>\n",
       "    <tr>\n",
       "      <th>...</th>\n",
       "      <td>...</td>\n",
       "    </tr>\n",
       "    <tr>\n",
       "      <th>26-05-2022</th>\n",
       "      <td>9</td>\n",
       "    </tr>\n",
       "    <tr>\n",
       "      <th>27-05-2022</th>\n",
       "      <td>8</td>\n",
       "    </tr>\n",
       "    <tr>\n",
       "      <th>28-05-2022</th>\n",
       "      <td>8</td>\n",
       "    </tr>\n",
       "    <tr>\n",
       "      <th>29-05-2022</th>\n",
       "      <td>8</td>\n",
       "    </tr>\n",
       "    <tr>\n",
       "      <th>30-05-2022</th>\n",
       "      <td>7</td>\n",
       "    </tr>\n",
       "  </tbody>\n",
       "</table>\n",
       "<p>469 rows × 1 columns</p>\n",
       "</div>"
      ],
      "text/plain": [
       "            Units Ordered\n",
       "Date                     \n",
       "16-02-2021              0\n",
       "17-02-2021              1\n",
       "18-02-2021              1\n",
       "19-02-2021              2\n",
       "20-02-2021              6\n",
       "...                   ...\n",
       "26-05-2022              9\n",
       "27-05-2022              8\n",
       "28-05-2022              8\n",
       "29-05-2022              8\n",
       "30-05-2022              7\n",
       "\n",
       "[469 rows x 1 columns]"
      ]
     },
     "execution_count": 11,
     "metadata": {},
     "output_type": "execute_result"
    }
   ],
   "source": [
    "train_data"
   ]
  },
  {
   "cell_type": "code",
   "execution_count": 12,
   "id": "b7950d8e",
   "metadata": {},
   "outputs": [
    {
     "data": {
      "text/html": [
       "<div>\n",
       "<style scoped>\n",
       "    .dataframe tbody tr th:only-of-type {\n",
       "        vertical-align: middle;\n",
       "    }\n",
       "\n",
       "    .dataframe tbody tr th {\n",
       "        vertical-align: top;\n",
       "    }\n",
       "\n",
       "    .dataframe thead th {\n",
       "        text-align: right;\n",
       "    }\n",
       "</style>\n",
       "<table border=\"1\" class=\"dataframe\">\n",
       "  <thead>\n",
       "    <tr style=\"text-align: right;\">\n",
       "      <th></th>\n",
       "      <th>Units Ordered</th>\n",
       "    </tr>\n",
       "    <tr>\n",
       "      <th>Date</th>\n",
       "      <th></th>\n",
       "    </tr>\n",
       "  </thead>\n",
       "  <tbody>\n",
       "    <tr>\n",
       "      <th>31-05-2022</th>\n",
       "      <td>8</td>\n",
       "    </tr>\n",
       "    <tr>\n",
       "      <th>01-06-2022</th>\n",
       "      <td>8</td>\n",
       "    </tr>\n",
       "    <tr>\n",
       "      <th>02-06-2022</th>\n",
       "      <td>7</td>\n",
       "    </tr>\n",
       "    <tr>\n",
       "      <th>03-06-2022</th>\n",
       "      <td>5</td>\n",
       "    </tr>\n",
       "    <tr>\n",
       "      <th>04-06-2022</th>\n",
       "      <td>8</td>\n",
       "    </tr>\n",
       "    <tr>\n",
       "      <th>...</th>\n",
       "      <td>...</td>\n",
       "    </tr>\n",
       "    <tr>\n",
       "      <th>21-09-2022</th>\n",
       "      <td>4</td>\n",
       "    </tr>\n",
       "    <tr>\n",
       "      <th>22-09-2022</th>\n",
       "      <td>6</td>\n",
       "    </tr>\n",
       "    <tr>\n",
       "      <th>23-09-2022</th>\n",
       "      <td>4</td>\n",
       "    </tr>\n",
       "    <tr>\n",
       "      <th>24-09-2022</th>\n",
       "      <td>3</td>\n",
       "    </tr>\n",
       "    <tr>\n",
       "      <th>25-09-2022</th>\n",
       "      <td>2</td>\n",
       "    </tr>\n",
       "  </tbody>\n",
       "</table>\n",
       "<p>118 rows × 1 columns</p>\n",
       "</div>"
      ],
      "text/plain": [
       "            Units Ordered\n",
       "Date                     \n",
       "31-05-2022              8\n",
       "01-06-2022              8\n",
       "02-06-2022              7\n",
       "03-06-2022              5\n",
       "04-06-2022              8\n",
       "...                   ...\n",
       "21-09-2022              4\n",
       "22-09-2022              6\n",
       "23-09-2022              4\n",
       "24-09-2022              3\n",
       "25-09-2022              2\n",
       "\n",
       "[118 rows x 1 columns]"
      ]
     },
     "execution_count": 12,
     "metadata": {},
     "output_type": "execute_result"
    }
   ],
   "source": [
    "test_data"
   ]
  },
  {
   "cell_type": "code",
   "execution_count": 13,
   "id": "cd949bcc",
   "metadata": {},
   "outputs": [],
   "source": [
    "from sklearn.preprocessing import MinMaxScaler\n",
    "scaler = MinMaxScaler()"
   ]
  },
  {
   "cell_type": "code",
   "execution_count": 14,
   "id": "4d1dc31d",
   "metadata": {},
   "outputs": [],
   "source": [
    "train= scaler.fit_transform(train_data)\n",
    "test= scaler.transform(test_data)"
   ]
  },
  {
   "cell_type": "code",
   "execution_count": 15,
   "id": "13981401",
   "metadata": {},
   "outputs": [
    {
     "data": {
      "text/plain": [
       "(469, 1)"
      ]
     },
     "execution_count": 15,
     "metadata": {},
     "output_type": "execute_result"
    }
   ],
   "source": [
    "train.shape"
   ]
  },
  {
   "cell_type": "code",
   "execution_count": 16,
   "id": "f03e61c3",
   "metadata": {},
   "outputs": [
    {
     "data": {
      "text/plain": [
       "118"
      ]
     },
     "execution_count": 16,
     "metadata": {},
     "output_type": "execute_result"
    }
   ],
   "source": [
    "len(test)"
   ]
  },
  {
   "cell_type": "code",
   "execution_count": 17,
   "id": "ad74cb99",
   "metadata": {},
   "outputs": [],
   "source": [
    "X_train = []\n",
    "Y_train = []"
   ]
  },
  {
   "cell_type": "code",
   "execution_count": 18,
   "id": "42d59d21",
   "metadata": {},
   "outputs": [],
   "source": [
    "timesteps = 7"
   ]
  },
  {
   "cell_type": "code",
   "execution_count": 19,
   "id": "f683164e",
   "metadata": {},
   "outputs": [],
   "source": [
    "for i in range(timesteps,train.shape[0]):\n",
    "        X_train.append(train[i-timesteps:i])\n",
    "        Y_train.append(train[i][0])"
   ]
  },
  {
   "cell_type": "code",
   "execution_count": 20,
   "id": "c6a9d921",
   "metadata": {},
   "outputs": [],
   "source": [
    "X_train,Y_train = np.array(X_train),np.array(Y_train)"
   ]
  },
  {
   "cell_type": "code",
   "execution_count": 21,
   "id": "186d51ee",
   "metadata": {},
   "outputs": [
    {
     "data": {
      "text/plain": [
       "array([[[0.        ],\n",
       "        [0.04166667],\n",
       "        [0.04166667],\n",
       "        ...,\n",
       "        [0.25      ],\n",
       "        [0.16666667],\n",
       "        [0.20833333]],\n",
       "\n",
       "       [[0.04166667],\n",
       "        [0.04166667],\n",
       "        [0.08333333],\n",
       "        ...,\n",
       "        [0.16666667],\n",
       "        [0.20833333],\n",
       "        [0.20833333]],\n",
       "\n",
       "       [[0.04166667],\n",
       "        [0.08333333],\n",
       "        [0.25      ],\n",
       "        ...,\n",
       "        [0.20833333],\n",
       "        [0.20833333],\n",
       "        [0.41666667]],\n",
       "\n",
       "       ...,\n",
       "\n",
       "       [[0.375     ],\n",
       "        [0.54166667],\n",
       "        [0.5       ],\n",
       "        ...,\n",
       "        [0.54166667],\n",
       "        [0.375     ],\n",
       "        [0.33333333]],\n",
       "\n",
       "       [[0.54166667],\n",
       "        [0.5       ],\n",
       "        [0.5       ],\n",
       "        ...,\n",
       "        [0.375     ],\n",
       "        [0.33333333],\n",
       "        [0.33333333]],\n",
       "\n",
       "       [[0.5       ],\n",
       "        [0.5       ],\n",
       "        [0.54166667],\n",
       "        ...,\n",
       "        [0.33333333],\n",
       "        [0.33333333],\n",
       "        [0.33333333]]])"
      ]
     },
     "execution_count": 21,
     "metadata": {},
     "output_type": "execute_result"
    }
   ],
   "source": [
    "X_train"
   ]
  },
  {
   "cell_type": "code",
   "execution_count": 22,
   "id": "a5ceb8ae",
   "metadata": {},
   "outputs": [
    {
     "data": {
      "text/plain": [
       "(462, 7, 1)"
      ]
     },
     "execution_count": 22,
     "metadata": {},
     "output_type": "execute_result"
    }
   ],
   "source": [
    "X_train.shape"
   ]
  },
  {
   "cell_type": "code",
   "execution_count": 23,
   "id": "33e53b1d",
   "metadata": {},
   "outputs": [],
   "source": [
    "import tensorflow as tf\n",
    "from tensorflow.keras.models import Sequential, load_model\n",
    "from tensorflow.keras.layers import Dense\n",
    "from tensorflow.keras.layers import LSTM\n",
    "from tensorflow.keras import optimizers"
   ]
  },
  {
   "cell_type": "markdown",
   "id": "27bebb4c",
   "metadata": {},
   "source": [
    "### Stacked LSTM"
   ]
  },
  {
   "cell_type": "code",
   "execution_count": 24,
   "id": "9fb5fb30",
   "metadata": {},
   "outputs": [
    {
     "name": "stdout",
     "output_type": "stream",
     "text": [
      "Model: \"sequential\"\n",
      "_________________________________________________________________\n",
      " Layer (type)                Output Shape              Param #   \n",
      "=================================================================\n",
      " lstm (LSTM)                 (None, 7, 256)            264192    \n",
      "                                                                 \n",
      " lstm_1 (LSTM)               (None, 256)               525312    \n",
      "                                                                 \n",
      " dense (Dense)               (None, 50)                12850     \n",
      "                                                                 \n",
      " dense_1 (Dense)             (None, 1)                 51        \n",
      "                                                                 \n",
      "=================================================================\n",
      "Total params: 802,405\n",
      "Trainable params: 802,405\n",
      "Non-trainable params: 0\n",
      "_________________________________________________________________\n"
     ]
    }
   ],
   "source": [
    "model = Sequential()\n",
    "# model.add(LSTM(36,input_shape = (X_train.shape[1],X_train.shape[2]),return_sequences = True,activation = 'relu'))        \n",
    "# model.add(LSTM(16,activation = 'relu',return_sequences = True))\n",
    "# model.add(LSTM(8,activation = 'relu'))\n",
    "# model.add(Dense(1))\n",
    "\n",
    "model.add(LSTM(256,input_shape = (X_train.shape[1],X_train.shape[2]),return_sequences = True,activation = 'relu'))\n",
    "model.add(LSTM(256,activation = 'relu'))\n",
    "\n",
    "model.add(Dense(50))\n",
    "model.add(Dense(1))\n",
    "\n",
    "model.compile(optimizer = 'adam', loss = 'mean_squared_error')\n",
    "model.summary()"
   ]
  },
  {
   "cell_type": "code",
   "execution_count": 25,
   "id": "0544240a",
   "metadata": {
    "scrolled": true
   },
   "outputs": [
    {
     "name": "stdout",
     "output_type": "stream",
     "text": [
      "Epoch 1/100\n",
      "15/15 [==============================] - 7s 73ms/step - loss: 0.0282\n",
      "Epoch 2/100\n",
      "15/15 [==============================] - 1s 69ms/step - loss: 0.0285\n",
      "Epoch 3/100\n",
      "15/15 [==============================] - 1s 74ms/step - loss: 0.0196\n",
      "Epoch 4/100\n",
      "15/15 [==============================] - 1s 71ms/step - loss: 0.0100\n",
      "Epoch 5/100\n",
      "15/15 [==============================] - 1s 75ms/step - loss: 0.0094\n",
      "Epoch 6/100\n",
      "15/15 [==============================] - 1s 75ms/step - loss: 0.0093\n",
      "Epoch 7/100\n",
      "15/15 [==============================] - 1s 73ms/step - loss: 0.0099\n",
      "Epoch 8/100\n",
      "15/15 [==============================] - 1s 74ms/step - loss: 0.0097\n",
      "Epoch 9/100\n",
      "15/15 [==============================] - 1s 70ms/step - loss: 0.0092\n",
      "Epoch 10/100\n",
      "15/15 [==============================] - 1s 70ms/step - loss: 0.0089\n",
      "Epoch 11/100\n",
      "15/15 [==============================] - 1s 75ms/step - loss: 0.0090\n",
      "Epoch 12/100\n",
      "15/15 [==============================] - 1s 69ms/step - loss: 0.0092\n",
      "Epoch 13/100\n",
      "15/15 [==============================] - 1s 75ms/step - loss: 0.0092\n",
      "Epoch 14/100\n",
      "15/15 [==============================] - 1s 75ms/step - loss: 0.0093\n",
      "Epoch 15/100\n",
      "15/15 [==============================] - 1s 79ms/step - loss: 0.0093\n",
      "Epoch 16/100\n",
      "15/15 [==============================] - 1s 71ms/step - loss: 0.0091\n",
      "Epoch 17/100\n",
      "15/15 [==============================] - 1s 72ms/step - loss: 0.0084\n",
      "Epoch 18/100\n",
      "15/15 [==============================] - 1s 75ms/step - loss: 0.0080\n",
      "Epoch 19/100\n",
      "15/15 [==============================] - 1s 74ms/step - loss: 0.0080\n",
      "Epoch 20/100\n",
      "15/15 [==============================] - 1s 71ms/step - loss: 0.0082\n",
      "Epoch 21/100\n",
      "15/15 [==============================] - 1s 74ms/step - loss: 0.0083\n",
      "Epoch 22/100\n",
      "15/15 [==============================] - 1s 65ms/step - loss: 0.0081\n",
      "Epoch 23/100\n",
      "15/15 [==============================] - 1s 77ms/step - loss: 0.0077\n",
      "Epoch 24/100\n",
      "15/15 [==============================] - 1s 76ms/step - loss: 0.0075\n",
      "Epoch 25/100\n",
      "15/15 [==============================] - 1s 72ms/step - loss: 0.0075\n",
      "Epoch 26/100\n",
      "15/15 [==============================] - 1s 70ms/step - loss: 0.0076\n",
      "Epoch 27/100\n",
      "15/15 [==============================] - 1s 71ms/step - loss: 0.0076\n",
      "Epoch 28/100\n",
      "15/15 [==============================] - 1s 73ms/step - loss: 0.0073\n",
      "Epoch 29/100\n",
      "15/15 [==============================] - 1s 82ms/step - loss: 0.0070\n",
      "Epoch 30/100\n",
      "15/15 [==============================] - 1s 67ms/step - loss: 0.0069\n",
      "Epoch 31/100\n",
      "15/15 [==============================] - 1s 67ms/step - loss: 0.0069\n",
      "Epoch 32/100\n",
      "15/15 [==============================] - 1s 81ms/step - loss: 0.0070\n",
      "Epoch 33/100\n",
      "15/15 [==============================] - 1s 82ms/step - loss: 0.0069\n",
      "Epoch 34/100\n",
      "15/15 [==============================] - 1s 94ms/step - loss: 0.0067\n",
      "Epoch 35/100\n",
      "15/15 [==============================] - 1s 96ms/step - loss: 0.0066\n",
      "Epoch 36/100\n",
      "15/15 [==============================] - 1s 94ms/step - loss: 0.0065\n",
      "Epoch 37/100\n",
      "15/15 [==============================] - 1s 90ms/step - loss: 0.0065\n",
      "Epoch 38/100\n",
      "15/15 [==============================] - 1s 95ms/step - loss: 0.0065\n",
      "Epoch 39/100\n",
      "15/15 [==============================] - 1s 88ms/step - loss: 0.0064\n",
      "Epoch 40/100\n",
      "15/15 [==============================] - 1s 92ms/step - loss: 0.0064\n",
      "Epoch 41/100\n",
      "15/15 [==============================] - 1s 86ms/step - loss: 0.0063\n",
      "Epoch 42/100\n",
      "15/15 [==============================] - 1s 80ms/step - loss: 0.0063\n",
      "Epoch 43/100\n",
      "15/15 [==============================] - 1s 84ms/step - loss: 0.0062\n",
      "Epoch 44/100\n",
      "15/15 [==============================] - 1s 81ms/step - loss: 0.0062\n",
      "Epoch 45/100\n",
      "15/15 [==============================] - 1s 78ms/step - loss: 0.0062\n",
      "Epoch 46/100\n",
      "15/15 [==============================] - 1s 81ms/step - loss: 0.0061\n",
      "Epoch 47/100\n",
      "15/15 [==============================] - 1s 80ms/step - loss: 0.0061\n",
      "Epoch 48/100\n",
      "15/15 [==============================] - 1s 79ms/step - loss: 0.0061\n",
      "Epoch 49/100\n",
      "15/15 [==============================] - 1s 73ms/step - loss: 0.0060\n",
      "Epoch 50/100\n",
      "15/15 [==============================] - 1s 72ms/step - loss: 0.0060\n",
      "Epoch 51/100\n",
      "15/15 [==============================] - 1s 65ms/step - loss: 0.0060\n",
      "Epoch 52/100\n",
      "15/15 [==============================] - 1s 75ms/step - loss: 0.0060\n",
      "Epoch 53/100\n",
      "15/15 [==============================] - 1s 78ms/step - loss: 0.0060\n",
      "Epoch 54/100\n",
      "15/15 [==============================] - 1s 80ms/step - loss: 0.0060\n",
      "Epoch 55/100\n",
      "15/15 [==============================] - 1s 79ms/step - loss: 0.0060\n",
      "Epoch 56/100\n",
      "15/15 [==============================] - 1s 77ms/step - loss: 0.0060\n",
      "Epoch 57/100\n",
      "15/15 [==============================] - 1s 79ms/step - loss: 0.0059\n",
      "Epoch 58/100\n",
      "15/15 [==============================] - 1s 75ms/step - loss: 0.0059\n",
      "Epoch 59/100\n",
      "15/15 [==============================] - 1s 77ms/step - loss: 0.0059\n",
      "Epoch 60/100\n",
      "15/15 [==============================] - 1s 79ms/step - loss: 0.0059\n",
      "Epoch 61/100\n",
      "15/15 [==============================] - 1s 76ms/step - loss: 0.0059\n",
      "Epoch 62/100\n",
      "15/15 [==============================] - 1s 73ms/step - loss: 0.0059\n",
      "Epoch 63/100\n",
      "15/15 [==============================] - 1s 70ms/step - loss: 0.0059\n",
      "Epoch 64/100\n",
      "15/15 [==============================] - 1s 73ms/step - loss: 0.0059\n",
      "Epoch 65/100\n",
      "15/15 [==============================] - 1s 71ms/step - loss: 0.0059\n",
      "Epoch 66/100\n",
      "15/15 [==============================] - 1s 69ms/step - loss: 0.0059\n",
      "Epoch 67/100\n",
      "15/15 [==============================] - 1s 78ms/step - loss: 0.0059\n",
      "Epoch 68/100\n",
      "15/15 [==============================] - 1s 79ms/step - loss: 0.0059\n",
      "Epoch 69/100\n",
      "15/15 [==============================] - 1s 69ms/step - loss: 0.0060\n",
      "Epoch 70/100\n",
      "15/15 [==============================] - 1s 64ms/step - loss: 0.0063\n",
      "Epoch 71/100\n",
      "15/15 [==============================] - 1s 66ms/step - loss: 0.0060\n",
      "Epoch 72/100\n",
      "15/15 [==============================] - 1s 65ms/step - loss: 0.0058\n",
      "Epoch 73/100\n",
      "15/15 [==============================] - 1s 63ms/step - loss: 0.0057\n",
      "Epoch 74/100\n",
      "15/15 [==============================] - 1s 65ms/step - loss: 0.0057\n",
      "Epoch 75/100\n",
      "15/15 [==============================] - 1s 73ms/step - loss: 0.0058\n",
      "Epoch 76/100\n",
      "15/15 [==============================] - 1s 78ms/step - loss: 0.0058\n",
      "Epoch 77/100\n",
      "15/15 [==============================] - 1s 70ms/step - loss: 0.0058\n",
      "Epoch 78/100\n",
      "15/15 [==============================] - 1s 69ms/step - loss: 0.0058\n",
      "Epoch 79/100\n",
      "15/15 [==============================] - 1s 80ms/step - loss: 0.0060\n",
      "Epoch 80/100\n",
      "15/15 [==============================] - 1s 76ms/step - loss: 0.0066\n",
      "Epoch 81/100\n",
      "15/15 [==============================] - 1s 70ms/step - loss: 0.0068\n",
      "Epoch 82/100\n",
      "15/15 [==============================] - 1s 68ms/step - loss: 0.0061\n",
      "Epoch 83/100\n",
      "15/15 [==============================] - 1s 70ms/step - loss: 0.0057\n",
      "Epoch 84/100\n",
      "15/15 [==============================] - 1s 69ms/step - loss: 0.0056\n",
      "Epoch 85/100\n",
      "15/15 [==============================] - 1s 65ms/step - loss: 0.0056\n",
      "Epoch 86/100\n",
      "15/15 [==============================] - 1s 65ms/step - loss: 0.0056\n",
      "Epoch 87/100\n",
      "15/15 [==============================] - 1s 69ms/step - loss: 0.0057\n",
      "Epoch 88/100\n",
      "15/15 [==============================] - 1s 69ms/step - loss: 0.0057\n",
      "Epoch 89/100\n",
      "15/15 [==============================] - 1s 72ms/step - loss: 0.0057\n",
      "Epoch 90/100\n",
      "15/15 [==============================] - 1s 76ms/step - loss: 0.0057\n",
      "Epoch 91/100\n",
      "15/15 [==============================] - 1s 70ms/step - loss: 0.0057\n",
      "Epoch 92/100\n",
      "15/15 [==============================] - 1s 68ms/step - loss: 0.0057\n",
      "Epoch 93/100\n",
      "15/15 [==============================] - 1s 73ms/step - loss: 0.0057\n",
      "Epoch 94/100\n",
      "15/15 [==============================] - 1s 71ms/step - loss: 0.0057\n",
      "Epoch 95/100\n",
      "15/15 [==============================] - 1s 70ms/step - loss: 0.0057\n",
      "Epoch 96/100\n",
      "15/15 [==============================] - 1s 74ms/step - loss: 0.0057\n",
      "Epoch 97/100\n",
      "15/15 [==============================] - 1s 67ms/step - loss: 0.0057\n",
      "Epoch 98/100\n",
      "15/15 [==============================] - 1s 70ms/step - loss: 0.0057\n",
      "Epoch 99/100\n",
      "15/15 [==============================] - 1s 70ms/step - loss: 0.0057\n",
      "Epoch 100/100\n",
      "15/15 [==============================] - 1s 69ms/step - loss: 0.0057\n"
     ]
    },
    {
     "data": {
      "text/plain": [
       "<keras.callbacks.History at 0x245a30bbaf0>"
      ]
     },
     "execution_count": 25,
     "metadata": {},
     "output_type": "execute_result"
    }
   ],
   "source": [
    "model.fit(X_train,Y_train,epochs = 100,verbose = 1,shuffle = False)"
   ]
  },
  {
   "cell_type": "markdown",
   "id": "92df3368",
   "metadata": {},
   "source": [
    "### Training Set"
   ]
  },
  {
   "cell_type": "code",
   "execution_count": 26,
   "id": "fa1173a4",
   "metadata": {},
   "outputs": [
    {
     "name": "stdout",
     "output_type": "stream",
     "text": [
      "0.005592023998300914 0.07477983684323546 0.8511940402479223\n"
     ]
    }
   ],
   "source": [
    "train_pred = model.predict(X_train)\n",
    "mse = mean_squared_error(Y_train,train_pred)\n",
    "rmse = np.sqrt(mse)\n",
    "r = r2_score(Y_train,train_pred)\n",
    "print(mse, rmse, r)"
   ]
  },
  {
   "cell_type": "code",
   "execution_count": 27,
   "id": "43fc1d7d",
   "metadata": {},
   "outputs": [
    {
     "data": {
      "image/png": "[encoded data removed]",
      "text/plain": [
       "<Figure size 432x288 with 1 Axes>"
      ]
     },
     "metadata": {
      "needs_background": "light"
     },
     "output_type": "display_data"
    }
   ],
   "source": [
    "plt.plot(Y_train,c = 'r')\n",
    "plt.plot(train_pred,c = 'y')\n",
    "plt.xlabel('Day')\n",
    "plt.ylabel('Unit')\n",
    "plt.title('lstm train-prediciton')\n",
    "plt.legend(['Actual','Predicted'],loc = 'upper right')\n",
    "plt.show()"
   ]
  },
  {
   "cell_type": "markdown",
   "id": "5f38080e",
   "metadata": {},
   "source": [
    "### Testing Set"
   ]
  },
  {
   "cell_type": "code",
   "execution_count": 28,
   "id": "4f0796b9",
   "metadata": {},
   "outputs": [],
   "source": [
    "X_test = []\n",
    "Y_test = []\n",
    "\n",
    "    # Loop for testing data\n",
    "for i in range(timesteps,test.shape[0]):\n",
    "        X_test.append(test[i-timesteps:i])\n",
    "        Y_test.append(test[i])\n",
    "X_test,Y_test = np.array(X_test),np.array(Y_test)"
   ]
  },
  {
   "cell_type": "code",
   "execution_count": 29,
   "id": "bd140d59",
   "metadata": {},
   "outputs": [
    {
     "name": "stdout",
     "output_type": "stream",
     "text": [
      "(111, 1)\n"
     ]
    }
   ],
   "source": [
    "print(Y_test.shape)"
   ]
  },
  {
   "cell_type": "code",
   "execution_count": 30,
   "id": "46dfd438",
   "metadata": {},
   "outputs": [
    {
     "name": "stdout",
     "output_type": "stream",
     "text": [
      "0.02793280099992636 0.16713108926805437 0.9364034456223037\n"
     ]
    }
   ],
   "source": [
    "test_pred = model.predict(X_test)\n",
    "mse = mean_squared_error(Y_test,test_pred)\n",
    "rmse = np.sqrt(mse)\n",
    "r = r2_score(Y_test,test_pred)\n",
    "print(mse, rmse, r)"
   ]
  },
  {
   "cell_type": "code",
   "execution_count": 31,
   "id": "4b9e9712",
   "metadata": {
    "scrolled": true
   },
   "outputs": [
    {
     "data": {
      "image/png": "[encoded data removed]",
      "text/plain": [
       "<Figure size 432x288 with 1 Axes>"
      ]
     },
     "metadata": {
      "needs_background": "light"
     },
     "output_type": "display_data"
    }
   ],
   "source": [
    "plt.plot(Y_test,c = 'r')\n",
    "plt.plot(test_pred,c = 'y')\n",
    "plt.xlabel('Day')\n",
    "plt.ylabel('Unit')\n",
    "plt.title('lstm test-prediciton')\n",
    "plt.legend(['Actual','Predicted'],loc = 'upper right')\n",
    "plt.show()"
   ]
  },
  {
   "cell_type": "markdown",
   "id": "96427c5a",
   "metadata": {},
   "source": [
    "#### MAPE Value"
   ]
  },
  {
   "cell_type": "code",
   "execution_count": 32,
   "id": "8b9d13b1",
   "metadata": {
    "scrolled": true
   },
   "outputs": [
    {
     "data": {
      "text/plain": [
       "18.87412313925867"
      ]
     },
     "execution_count": 32,
     "metadata": {},
     "output_type": "execute_result"
    }
   ],
   "source": [
    "from sklearn.metrics import mean_absolute_percentage_error\n",
    "\n",
    "mean_absolute_percentage_error(Y_test,test_pred) * 100"
   ]
  },
  {
   "cell_type": "markdown",
   "id": "002d08e9",
   "metadata": {},
   "source": [
    "#### Future Predictions"
   ]
  },
  {
   "cell_type": "code",
   "execution_count": 55,
   "id": "8e93d51b",
   "metadata": {},
   "outputs": [],
   "source": [
    "pred = []\n",
    "Xinput = test[111:].reshape((1, 7, 1))\n",
    "for i in range(14):\n",
    "    x = model.predict(Xinput, verbose=0)\n",
    "    pred.append(x[0][0]) \n",
    "    Xinput = np.append(Xinput,x[0][0])\n",
    "    Xinput = Xinput[1:].reshape((1, 7, 1)) \n",
    "        "
   ]
  },
  {
   "cell_type": "code",
   "execution_count": 56,
   "id": "94e71064",
   "metadata": {},
   "outputs": [
    {
     "data": {
      "text/plain": [
       "[0.14008224,\n",
       " 0.15330997,\n",
       " 0.1617882,\n",
       " 0.1714615,\n",
       " 0.18502676,\n",
       " 0.20279686,\n",
       " 0.22003993,\n",
       " 0.23069501,\n",
       " 0.24233255,\n",
       " 0.25256175,\n",
       " 0.26099777,\n",
       " 0.26975277,\n",
       " 0.27810225,\n",
       " 0.28613818]"
      ]
     },
     "execution_count": 56,
     "metadata": {},
     "output_type": "execute_result"
    }
   ],
   "source": [
    "pred"
   ]
  },
  {
   "cell_type": "code",
   "execution_count": 57,
   "id": "3fb7ddce",
   "metadata": {},
   "outputs": [
    {
     "data": {
      "image/png": "[encoded data removed]",
      "text/plain": [
       "<Figure size 432x288 with 1 Axes>"
      ]
     },
     "metadata": {
      "needs_background": "light"
     },
     "output_type": "display_data"
    }
   ],
   "source": [
    "plt.plot(pred,c = 'y')\n",
    "plt.xlabel('Day')\n",
    "plt.ylabel('Unit')\n",
    "plt.title('lstm test-prediciton')\n",
    "plt.legend(['Actual'],loc = 'lower right')\n",
    "plt.show()"
   ]
  },
  {
   "cell_type": "code",
   "execution_count": 58,
   "id": "b649c333",
   "metadata": {},
   "outputs": [],
   "source": [
    "pred1 = scaler.inverse_transform(np.array(pred).reshape(-1,1))\n",
    "pred1 = np.round(pred1)"
   ]
  },
  {
   "cell_type": "code",
   "execution_count": 59,
   "id": "874afdea",
   "metadata": {},
   "outputs": [
    {
     "data": {
      "text/plain": [
       "array([[3.],\n",
       "       [4.],\n",
       "       [4.],\n",
       "       [4.],\n",
       "       [4.],\n",
       "       [5.],\n",
       "       [5.],\n",
       "       [6.],\n",
       "       [6.],\n",
       "       [6.],\n",
       "       [6.],\n",
       "       [6.],\n",
       "       [7.],\n",
       "       [7.]], dtype=float32)"
      ]
     },
     "execution_count": 59,
     "metadata": {},
     "output_type": "execute_result"
    }
   ],
   "source": [
    "pred1"
   ]
  },
  {
   "cell_type": "markdown",
   "id": "4f8a8f00",
   "metadata": {},
   "source": [
    "### Forecasted Plot"
   ]
  },
  {
   "cell_type": "code",
   "execution_count": 62,
   "id": "26517624",
   "metadata": {},
   "outputs": [],
   "source": [
    "day_new=np.arange(1,119)\n",
    "day_pred=np.arange(119,133)"
   ]
  },
  {
   "cell_type": "code",
   "execution_count": 63,
   "id": "bcb1cbb9",
   "metadata": {
    "scrolled": true
   },
   "outputs": [
    {
     "data": {
      "text/plain": [
       "[<matplotlib.lines.Line2D at 0x245a9511f10>]"
      ]
     },
     "execution_count": 63,
     "metadata": {},
     "output_type": "execute_result"
    },
    {
     "data": {
      "image/png": "[encoded data removed]",
      "text/plain": [
       "<Figure size 432x288 with 1 Axes>"
      ]
     },
     "metadata": {
      "needs_background": "light"
     },
     "output_type": "display_data"
    }
   ],
   "source": [
    "plt.plot(day_new,scaler.inverse_transform(test))\n",
    "plt.plot(day_pred,scaler.inverse_transform(np.array(pred).reshape(-1,1)))"
   ]
  },
  {
   "cell_type": "markdown",
   "id": "86543ad4",
   "metadata": {},
   "source": [
    "#### Forecasted Values"
   ]
  },
  {
   "cell_type": "code",
   "execution_count": 64,
   "id": "164a4ea4",
   "metadata": {},
   "outputs": [],
   "source": [
    "forecasted = [['26-09-2022',3],['27-09-2022',4],['28-09-2022',4],['29-09-2022',4],['30-09-2022',4],['01-10-2022',5],['02-10-2022',5]]\n",
    "forecasted = pd.DataFrame(forecasted,columns=['Date','Units Ordered'])"
   ]
  },
  {
   "cell_type": "code",
   "execution_count": 65,
   "id": "81a9934a",
   "metadata": {},
   "outputs": [
    {
     "data": {
      "text/html": [
       "<div>\n",
       "<style scoped>\n",
       "    .dataframe tbody tr th:only-of-type {\n",
       "        vertical-align: middle;\n",
       "    }\n",
       "\n",
       "    .dataframe tbody tr th {\n",
       "        vertical-align: top;\n",
       "    }\n",
       "\n",
       "    .dataframe thead th {\n",
       "        text-align: right;\n",
       "    }\n",
       "</style>\n",
       "<table border=\"1\" class=\"dataframe\">\n",
       "  <thead>\n",
       "    <tr style=\"text-align: right;\">\n",
       "      <th></th>\n",
       "      <th>Units Ordered</th>\n",
       "    </tr>\n",
       "    <tr>\n",
       "      <th>Date</th>\n",
       "      <th></th>\n",
       "    </tr>\n",
       "  </thead>\n",
       "  <tbody>\n",
       "    <tr>\n",
       "      <th>26-09-2022</th>\n",
       "      <td>3</td>\n",
       "    </tr>\n",
       "    <tr>\n",
       "      <th>27-09-2022</th>\n",
       "      <td>4</td>\n",
       "    </tr>\n",
       "    <tr>\n",
       "      <th>28-09-2022</th>\n",
       "      <td>4</td>\n",
       "    </tr>\n",
       "    <tr>\n",
       "      <th>29-09-2022</th>\n",
       "      <td>4</td>\n",
       "    </tr>\n",
       "    <tr>\n",
       "      <th>30-09-2022</th>\n",
       "      <td>4</td>\n",
       "    </tr>\n",
       "    <tr>\n",
       "      <th>01-10-2022</th>\n",
       "      <td>5</td>\n",
       "    </tr>\n",
       "    <tr>\n",
       "      <th>02-10-2022</th>\n",
       "      <td>5</td>\n",
       "    </tr>\n",
       "  </tbody>\n",
       "</table>\n",
       "</div>"
      ],
      "text/plain": [
       "            Units Ordered\n",
       "Date                     \n",
       "26-09-2022              3\n",
       "27-09-2022              4\n",
       "28-09-2022              4\n",
       "29-09-2022              4\n",
       "30-09-2022              4\n",
       "01-10-2022              5\n",
       "02-10-2022              5"
      ]
     },
     "execution_count": 65,
     "metadata": {},
     "output_type": "execute_result"
    }
   ],
   "source": [
    "forecasted = forecasted.set_index('Date')\n",
    "forecasted"
   ]
  },
  {
   "cell_type": "code",
   "execution_count": 66,
   "id": "016f28de",
   "metadata": {},
   "outputs": [
    {
     "name": "stderr",
     "output_type": "stream",
     "text": [
      "C:\\Users\\RAHUL\\anaconda3\\lib\\site-packages\\numpy\\core\\_asarray.py:171: VisibleDeprecationWarning: Creating an ndarray from ragged nested sequences (which is a list-or-tuple of lists-or-tuples-or ndarrays with different lengths or shapes) is deprecated. If you meant to do this, you must specify 'dtype=object' when creating the ndarray.\n",
      "  return array(a, dtype, copy=False, order=order, subok=True)\n"
     ]
    },
    {
     "data": {
      "text/plain": [
       "[<matplotlib.lines.Line2D at 0x245a985c6a0>]"
      ]
     },
     "execution_count": 66,
     "metadata": {},
     "output_type": "execute_result"
    },
    {
     "data": {
      "image/png": "[encoded data removed]",
      "text/plain": [
       "<Figure size 432x288 with 1 Axes>"
      ]
     },
     "metadata": {
      "needs_background": "light"
     },
     "output_type": "display_data"
    }
   ],
   "source": [
    "df1= df[\"Units Ordered\"].tolist()\n",
    "df1.extend(pred1)\n",
    "plt.plot(df1[-90:])"
   ]
  },
  {
   "cell_type": "code",
   "execution_count": 67,
   "id": "0d8bf02d",
   "metadata": {},
   "outputs": [
    {
     "data": {
      "text/plain": [
       "[<matplotlib.lines.Line2D at 0x245a98b35b0>]"
      ]
     },
     "execution_count": 67,
     "metadata": {},
     "output_type": "execute_result"
    },
    {
     "data": {
      "image/png": "[encoded data removed]",
      "text/plain": [
       "<Figure size 432x288 with 1 Axes>"
      ]
     },
     "metadata": {
      "needs_background": "light"
     },
     "output_type": "display_data"
    }
   ],
   "source": [
    "df1= df[\"Units Ordered\"].tolist()\n",
    "df1.extend(pred1)\n",
    "plt.plot(df1[-30:])"
   ]
  },
  {
   "cell_type": "code",
   "execution_count": 68,
   "id": "e166b305",
   "metadata": {},
   "outputs": [
    {
     "data": {
      "text/plain": [
       "[<matplotlib.lines.Line2D at 0x245a9908df0>]"
      ]
     },
     "execution_count": 68,
     "metadata": {},
     "output_type": "execute_result"
    },
    {
     "data": {
      "image/png": "[encoded data removed]",
      "text/plain": [
       "<Figure size 432x288 with 1 Axes>"
      ]
     },
     "metadata": {
      "needs_background": "light"
     },
     "output_type": "display_data"
    }
   ],
   "source": [
    "df1= df[\"Units Ordered\"].tolist()\n",
    "df1.extend(pred1)\n",
    "plt.plot(df1[-120:])"
   ]
  },
  {
   "cell_type": "code",
   "execution_count": null,
   "id": "669703be",
   "metadata": {},
   "outputs": [],
   "source": []
  }
 ],
 "metadata": {
  "kernelspec": {
   "display_name": "Python 3",
   "language": "python",
   "name": "python3"
  },
  "language_info": {
   "codemirror_mode": {
    "name": "ipython",
    "version": 3
   },
   "file_extension": ".py",
   "mimetype": "text/x-python",
   "name": "python",
   "nbconvert_exporter": "python",
   "pygments_lexer": "ipython3",
   "version": "3.8.8"
  }
 },
 "nbformat": 4,
 "nbformat_minor": 5
}
